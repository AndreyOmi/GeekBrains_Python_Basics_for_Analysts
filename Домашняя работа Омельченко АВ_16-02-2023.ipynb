{
 "cells": [
  {
   "cell_type": "markdown",
   "metadata": {},
   "source": [
    "## Задача № 1:\n",
    "Оформляйте ноутбук, используя эти советы:\\\n",
    "Номер задачи - заголовок 2\\\n",
    "Номер подзадачи - заголовок 3\\\n",
    "Предоставленные наборы данных оформляйте, как код.\\\n",
    "Рекомендации для преподавателей по оценке задания: смотреть, чтобы студент красиво оформлял ноутбук, использовал ячейки с текстом, указывал номера заданий"
   ]
  },
  {
   "cell_type": "markdown",
   "metadata": {},
   "source": [
    "## Задача № 2:\n",
    "На складе лежат разные фрукты в разном количестве.\n",
    "Нужно написать функцию, которая на вход принимает любое количество названий фруктов и их количество, а возвращает общее количество фруктов на складе"
   ]
  },
  {
   "cell_type": "code",
   "execution_count": 13,
   "metadata": {},
   "outputs": [],
   "source": [
    "def sum_dict_values(**kvargs):\n",
    "    print(kvargs)\n",
    "    sum_values = 0\n",
    "    for value in kvargs.values():\n",
    "        sum_values = sum_values + value\n",
    "    return sum_values\n"
   ]
  },
  {
   "cell_type": "code",
   "execution_count": 14,
   "metadata": {},
   "outputs": [
    {
     "name": "stdout",
     "output_type": "stream",
     "text": [
      "{'Яблоки': 100, 'Груши': 200, 'Апельсины': 300, 'Мандарины': 400, 'Ананасы': 500, 'Бананы': 600}\n",
      "Общее количество фруктов =  2100\n"
     ]
    }
   ],
   "source": [
    "sum_fruits = sum_dict_values(Яблоки = 100, Груши = 200, Апельсины = 300, Мандарины = 400, Ананасы = 500, Бананы = 600)\n",
    "print(\"Общее количество фруктов = \", sum_fruits)"
   ]
  },
  {
   "cell_type": "markdown",
   "metadata": {},
   "source": [
    "## Задача № 3:\n",
    "Дан список с затратами на рекламу. Но в данных есть ошибки, некоторые затраты имеют отрицательную величину. Удалите такие значения из списка и посчитайте суммарные затраты.\n",
    "[100, 125, -90, 345, 655, -1, 0, 200]\n",
    "Используйте list comprehensions"
   ]
  },
  {
   "cell_type": "code",
   "execution_count": 15,
   "metadata": {},
   "outputs": [
    {
     "name": "stdout",
     "output_type": "stream",
     "text": [
      "Список без ошибочных (отрицательных) значений:  [100, 125, 345, 655, 0, 200]\n",
      "Суммарные затраты равны  1425\n"
     ]
    }
   ],
   "source": [
    "input_list = [100, 125, -90, 345, 655, -1, 0, 200]\n",
    "\n",
    "result_list = [i for i in input_list if i >= 0]\n",
    "\n",
    "sum_list = sum(result_list)\n",
    "\n",
    "print(\"Список без ошибочных (отрицательных) значений: \", result_list)\n",
    "print(\"Суммарные затраты равны \", sum_list)\n",
    " "
   ]
  },
  {
   "cell_type": "markdown",
   "metadata": {},
   "source": [
    "## Задача № 4:\n",
    "Даны два списка.\\\n",
    "Дата покупки\\\n",
    "['2021-09-14', '2021-12-15', '2021-09-08', '2021-12-05', '2021-10-09', '2021-09-30', '2021-12-22', '2021-11-29', '2021-12-24', '2021-11-26', '2021-10-27', '2021-12-18', '2021-11-09', '2021-11-23', '2021-09-27', '2021-10-02', '2021-12-27', '2021-09-20', '2021-12-13', '2021-11-01', '2021-11-09', '2021-12-06', '2021-12-08', '2021-10-09', '2021-10-31', '2021-09-30', '2021-11-09', '2021-12-13', '2021-10-26', '2021-12-09']\\\n",
    "Суммы покупок по датам\\\n",
    "[1270, 8413, 9028, 3703, 5739, 4095, 295, 4944, 5723, 3701, 4471, 651, 7037, 4274, 6275, 4988, 6930, 2971, 6592, 2004, 2822, 519, 3406, 2732, 5015, 2008, 316, 6333, 5700, 2887]"
   ]
  },
  {
   "cell_type": "markdown",
   "metadata": {},
   "source": [
    "### Подзадача № 4.1:\n",
    "Найдите, какая выручка у компании в ноябре.\\\n",
    "Используйте list comprehensions"
   ]
  },
  {
   "cell_type": "code",
   "execution_count": 16,
   "metadata": {},
   "outputs": [],
   "source": [
    "from datetime import datetime"
   ]
  },
  {
   "cell_type": "code",
   "execution_count": 17,
   "metadata": {},
   "outputs": [
    {
     "name": "stdout",
     "output_type": "stream",
     "text": [
      "30\n",
      "30\n"
     ]
    }
   ],
   "source": [
    "dates = ['2021-09-14', '2021-12-15', '2021-09-08', '2021-12-05', '2021-10-09', '2021-09-30', '2021-12-22', '2021-11-29', '2021-12-24', '2021-11-26', '2021-10-27', '2021-12-18', '2021-11-09', '2021-11-23', '2021-09-27', '2021-10-02', '2021-12-27', '2021-09-20', '2021-12-13', '2021-11-01', '2021-11-09', '2021-12-06', '2021-12-08', '2021-10-09', '2021-10-31', '2021-09-30', '2021-11-09', '2021-12-13', '2021-10-26', '2021-12-09']\n",
    "revenue = [1270, 8413, 9028, 3703, 5739, 4095, 295, 4944, 5723, 3701, 4471, 651, 7037, 4274, 6275, 4988, 6930, 2971, 6592, 2004, 2822, 519, 3406, 2732, 5015, 2008, 316, 6333, 5700, 2887] \n",
    "print(len(dates))\n",
    "print(len(revenue))"
   ]
  },
  {
   "cell_type": "code",
   "execution_count": 18,
   "metadata": {},
   "outputs": [
    {
     "name": "stdout",
     "output_type": "stream",
     "text": [
      "Список значений выручки в ноябре:  [4944, 3701, 7037, 4274, 2004, 2822, 316]\n",
      "Суммарная выручка в ноябре:  25098\n"
     ]
    }
   ],
   "source": [
    "november_revenue = [revenue[i] for i in range(len(revenue)) if datetime.strptime(dates[i], \"%Y-%m-%d\").date().month == 11]\n",
    "\n",
    "print(\"Список значений выручки в ноябре: \", november_revenue)\n",
    "print(\"Суммарная выручка в ноябре: \", sum(november_revenue))\n"
   ]
  },
  {
   "cell_type": "markdown",
   "metadata": {},
   "source": [
    "### Подзадача № 4.2:\n",
    "Найдите выручку компании в зависимости от месяца.\\\n",
    "Для этого напишите функцию, которая на вход принимает список с датами и список с выручкой, а на выходе словарь, где ключи - это месяцы, а значения - это выручка.\\\n",
    "Используйте аннотирование типов."
   ]
  },
  {
   "cell_type": "code",
   "execution_count": 19,
   "metadata": {},
   "outputs": [],
   "source": [
    "### функция для создания словаря из равных списков ключей и чисел \n",
    "\n",
    "def create_dict(keys_list: list, num_values_list: list) -> dict:\n",
    "    new_dict = dict()\n",
    "\n",
    "    for keys_indexes in range(len(keys_list)):\n",
    "        if keys_list[keys_indexes] in new_dict: \n",
    "            new_dict[keys_list[keys_indexes]] = new_dict[keys_list[keys_indexes]] + num_values_list[keys_indexes]\n",
    "        else:\n",
    "            new_dict[keys_list[keys_indexes]] = num_values_list[keys_indexes]\n",
    "    return new_dict"
   ]
  },
  {
   "cell_type": "code",
   "execution_count": 20,
   "metadata": {},
   "outputs": [],
   "source": [
    "### функция для конвертирования номера месяца в его русское название\n",
    "\n",
    "def num_month_to_rus_nomth(num_month: int) -> str: \n",
    "    match num_month:\n",
    "        case 1:\n",
    "            return \"Январь\"\n",
    "        case 2:\n",
    "            return \"Февраль\"\n",
    "        case 3:\n",
    "            return \"Март\"\n",
    "        case 4:\n",
    "            return \"Апрель\"\n",
    "        case 5:\n",
    "            return \"Май\"\n",
    "        case 6:\n",
    "            return \"Июнь\"\n",
    "        case 7:\n",
    "            return \"Июль\"\n",
    "        case 8:\n",
    "            return \"Август\"\n",
    "        case 9:\n",
    "            return \"Сентябрь\"\n",
    "        case 10:\n",
    "            return \"Октябрь\"\n",
    "        case 11:\n",
    "            return \"Ноябрь\"\n",
    "        case 12:\n",
    "            return \"Декабрь\"\n",
    "        case _:\n",
    "            return \"Неизвестный месяц\""
   ]
  },
  {
   "cell_type": "code",
   "execution_count": 21,
   "metadata": {},
   "outputs": [],
   "source": [
    "rus_month_list = [num_month_to_rus_nomth(datetime.strptime(dates[i], \"%Y-%m-%d\").date().month) for i in range(len(dates))]"
   ]
  },
  {
   "cell_type": "code",
   "execution_count": 22,
   "metadata": {},
   "outputs": [
    {
     "data": {
      "text/plain": [
       "{'Сентябрь': 25647, 'Декабрь': 45452, 'Октябрь': 28645, 'Ноябрь': 25098}"
      ]
     },
     "execution_count": 22,
     "metadata": {},
     "output_type": "execute_result"
    }
   ],
   "source": [
    "create_dict(rus_month_list, revenue)"
   ]
  }
 ],
 "metadata": {
  "kernelspec": {
   "display_name": "Python 3.10.5 64-bit",
   "language": "python",
   "name": "python3"
  },
  "language_info": {
   "codemirror_mode": {
    "name": "ipython",
    "version": 3
   },
   "file_extension": ".py",
   "mimetype": "text/x-python",
   "name": "python",
   "nbconvert_exporter": "python",
   "pygments_lexer": "ipython3",
   "version": "3.10.5"
  },
  "orig_nbformat": 4,
  "vscode": {
   "interpreter": {
    "hash": "607db476e417971f05b607c2dd14e77ee8262c2c4c20dea422522c60605a222a"
   }
  }
 },
 "nbformat": 4,
 "nbformat_minor": 2
}
